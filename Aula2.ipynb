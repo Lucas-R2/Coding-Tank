{
 "cells": [
  {
   "cell_type": "markdown",
   "metadata": {},
   "source": [
    "1) Faça um programa que peça a idade do usuário e imprima se ele é maior ou menor de 18 anos.\n",
    "\n",
    "2) Faça um programa que peça um número e mostre se ele é positivo ou negativo. Alternativa: acrescentar nulo\n",
    "\n",
    "3) Faça um programa que peça dois números e mostre o maior deles.\n",
    "\n",
    "4) Faça um programa que leia a validade das informações:\n",
    "\n",
    "a. Idade: entre 0 e 150;\n",
    "\n",
    "b. Salário: maior que 0;\n",
    "\n",
    "c. Sexo: M, F ou Outro;\n",
    "\n",
    "O programa deve imprimir uma mensagem de erro para cada informação inválida."
   ]
  },
  {
   "cell_type": "markdown",
   "metadata": {},
   "source": [
    "1) Faça um programa que peça a idade do usuário e imprima se ele é maior ou menor de 18 anos."
   ]
  },
  {
   "cell_type": "code",
   "execution_count": 3,
   "metadata": {},
   "outputs": [
    {
     "name": "stdout",
     "output_type": "stream",
     "text": [
      "Você é menor de idade!\n"
     ]
    }
   ],
   "source": [
    "idade = int(input('Informe sua idade:'))\n",
    "if idade >= 18:\n",
    "    print('Você é maior de idade!')\n",
    "else:\n",
    "    print('Você é menor de idade!')"
   ]
  },
  {
   "cell_type": "markdown",
   "metadata": {},
   "source": [
    "2) Faça um programa que peça um número e mostre se ele é positivo ou negativo. Alternativa: acrescentar nulo"
   ]
  },
  {
   "cell_type": "code",
   "execution_count": 8,
   "metadata": {},
   "outputs": [
    {
     "name": "stdout",
     "output_type": "stream",
     "text": [
      "Numero negativo\n"
     ]
    }
   ],
   "source": [
    "numero = float(input('Informe um numero:'))\n",
    "\n",
    "if(numero == 0):\n",
    "    print('Numero nulo')\n",
    "elif(numero > 0):\n",
    "    print('Numero positivo')\n",
    "else:\n",
    "    print('Numero negativo')\n",
    "\n"
   ]
  },
  {
   "cell_type": "markdown",
   "metadata": {},
   "source": [
    "3) Faça um programa que peça dois números e mostre o maior deles."
   ]
  },
  {
   "cell_type": "code",
   "execution_count": null,
   "metadata": {},
   "outputs": [],
   "source": [
    "num1 = float(input('Digite o primeiro numero'))\n",
    "num2 = float(input('Digite o segundo numero'))\n",
    "\n",
    "if num1 > num2:\n",
    "    print(num1,'é maior que', num2)\n",
    "elif num2 > num1:\n",
    "    print(num2,'é maior que', num1)\n",
    "else:\n",
    "    print('os numeros são iguais')\n"
   ]
  },
  {
   "cell_type": "markdown",
   "metadata": {},
   "source": [
    "4) Faça um programa que leia a validade das informações:\n",
    "\n",
    "a. Idade: entre 0 e 150;\n",
    "\n",
    "b. Salário: maior que 0;\n",
    "\n",
    "c. Sexo: M, F ou Outro;\n",
    "\n",
    "O programa deve imprimir uma mensagem de erro para cada informação inválida."
   ]
  },
  {
   "cell_type": "code",
   "execution_count": 30,
   "metadata": {},
   "outputs": [],
   "source": [
    "idade = int(input('Informe a idade:'))\n",
    "salario = float(input('Informe o salario:'))\n",
    "sexo = input('Informe o sexo (sendo validos M, F ou Outros):')\n",
    "\n",
    "#Validação idade\n",
    "if idade <= 0 or idade>= 150:\n",
    "    print('Idade inválida!')\n",
    "\n",
    "#Validação do salário\n",
    "if salario <= 0:\n",
    "    print('Salario invalido!')\n",
    "\n",
    "#Validação do sexo\n",
    "if sexo != 'M' and sexo != 'F' and sexo != 'Outro':\n",
    "    #Saida: False and True and True = False\n",
    "    print('Sexo inválido')"
   ]
  },
  {
   "cell_type": "markdown",
   "metadata": {},
   "source": [
    "PARA CASA\n",
    "\n",
    "5) Escreva um programa que peça a nota de 3 provas de um aluno e verifique se ele passou ou não de ano.\n",
    "Obs.: O aluno irá passar de ano se sua média for maior que 6.\n",
    "\n",
    "6) Faça um programa que mostre uma questão de múltipla escolha com 5 opções (letras a, b, c, d, e). \n",
    "Sabendo a resposta certa, o programa deve receber a opção do usuário e informar a letra que o usuário marcou e se a resposta está certa ou errada.\n",
    "\n",
    "7) Vamos fazer um programa para verificar quem é o assassino de um crime. Para descobrir o assassino, \n",
    "a polícia faz um pequeno questionário com 5 perguntas \n",
    "onde a resposta só pode ser sim ou não:\n",
    "\n",
    "a. Mora perto da vítima?\n",
    "\n",
    "b. Já trabalhou com a vítima?\n",
    "\n",
    "c. Telefonou para a vítima?\n",
    "\n",
    "d. Esteve no local do crime?\n",
    "\n",
    "e. Devia para a vítima?\n",
    "\n",
    "Cada resposta sim dá um ponto para o suspeito. A polícia considera que os suspeitos com 5 pontos são os assassinos, com 4 a 3 pontos \n",
    "são cúmplices e 2 pontos são apenas suspeitos, necessitando outras investigações. Valores iguais ou abaixo de 1 são liberados.'''\n",
    "\n",
    "8) Um produto vai sofrer aumento de acordo com a Tabela 1 abaixo. Faça um programa que peça para o usuário digitar o valor do produto de acordo \n",
    "com o preço antigo e escreva uma das mensagens da Tabela 2, de acordo com o preço reajustado:\n",
    "\n",
    "Tabela 1\n",
    "\n",
    "| Preço Antigo         | % de aumento |\n",
    "|----------------------|--------------|\n",
    "| Até 50 reais         | 5%           |\n",
    "| Entre 50 e 100 reais | 10%          |\n",
    "| De 100 a 150 reais   | 13%          |\n",
    "| Acima de 150 reais   | 15%          |\n",
    "Tabela 2\n",
    "\n",
    "| Preço Novo            | Mensagem   |\n",
    "|-----------------------|------------|\n",
    "| Até 80 reais          | Barato     |\n",
    "| Entre 80 e 115 reais  | Razoável   |\n",
    "| Entre 115 e 150 reais | Normal     |\n",
    "| Entre 150 e 170 reais | Caro       |\n",
    "| Acima de 170 reais    | Muito Caro |\n",
    "\n",
    "\n",
    "9) Desafio 1 - Faça um programa que leia 3 números e informe o maior deles.\n"
   ]
  },
  {
   "cell_type": "markdown",
   "metadata": {},
   "source": [
    "5) Escreva um programa que peça a nota de 3 provas de um aluno e verifique se ele passou ou não de ano.\n",
    "Obs.: O aluno irá passar de ano se sua média for maior que 6."
   ]
  },
  {
   "cell_type": "code",
   "execution_count": 3,
   "metadata": {},
   "outputs": [
    {
     "name": "stdout",
     "output_type": "stream",
     "text": [
      "Sua média foi 5.2 \n",
      "Infelizmente você não foi aprovado.\n"
     ]
    }
   ],
   "source": [
    "prova1 = float(input('Informe a nota da prova 1:'))\n",
    "prova2 = float(input('Informe a nota da prova 2:'))\n",
    "prova3 = float(input('Informe a nota da prova 3:'))\n",
    "\n",
    "\n",
    "media = (prova1 + prova2 + prova3 )/3\n",
    "\n",
    "\n",
    "\n",
    "if media > 6:\n",
    "    print (\" Parabéns!!!\\n Sua média é\", media,\"\\n Você foi aprovado!\")\n",
    "\n",
    "else:\n",
    "    print(\"Sua média foi\", media,\"\\nInfelizmente você não foi aprovado.\")"
   ]
  },
  {
   "cell_type": "markdown",
   "metadata": {},
   "source": [
    "6) Faça um programa que mostre uma questão de múltipla escolha com 5 opções (letras a, b, c, d, e). \n",
    "Sabendo a resposta certa, o programa deve receber a opção do usuário e informar a letra que o usuário marcou e se a resposta está certa ou errada."
   ]
  },
  {
   "cell_type": "code",
   "execution_count": 26,
   "metadata": {},
   "outputs": [
    {
     "name": "stdout",
     "output_type": "stream",
     "text": [
      "Parabéns, você acertou a resposta!\n"
     ]
    }
   ],
   "source": [
    "pergunta = input('Qual a capital de Minas Gerais? \\n a) Campinas\\n b) Maceió\\n c) Campo Grande\\n d) Belo Horizonte\\n e) Pelotas')\n",
    "\n",
    "resposta_correta = 'd'\n",
    "\n",
    "if pergunta == resposta_correta:  # Verifica se a resposta está correta\n",
    "  print('Parabéns, você acertou a resposta!')\n",
    "else:\n",
    "  print('Resposta errada. A capital de Minas Gerais é Belo Horizonte.')\n"
   ]
  },
  {
   "cell_type": "markdown",
   "metadata": {},
   "source": [
    "7) Vamos fazer um programa para verificar quem é o assassino de um crime. Para descobrir o assassino, \n",
    "a polícia faz um pequeno questionário com 5 perguntas \n",
    "onde a resposta só pode ser sim ou não:\n",
    "\n",
    "a. Mora perto da vítima?\n",
    "\n",
    "b. Já trabalhou com a vítima?\n",
    "\n",
    "c. Telefonou para a vítima?\n",
    "\n",
    "d. Esteve no local do crime?\n",
    "\n",
    "e. Devia para a vítima?"
   ]
  },
  {
   "cell_type": "code",
   "execution_count": 33,
   "metadata": {},
   "outputs": [
    {
     "name": "stdout",
     "output_type": "stream",
     "text": [
      "Resposta da pergunta 2 é inválida\n",
      "Resposta da pergunta 3 é inválida\n",
      "Resposta da pergunta 5 é inválida\n"
     ]
    }
   ],
   "source": [
    "\n",
    "a = input('1) Mora perto da vítima? (responda sim ou não)')\n",
    "b = input('2) Já trabalhou com a vítima? (responda sim ou não)')\n",
    "c = input('3) Telefonou para a vítima? (responda sim ou não)')\n",
    "d = input('4) Esteve no local do crime? (responda sim ou não)')\n",
    "e = input('5) Devia para a vítima? (responda sim ou não)')\n",
    "\n",
    "#Validação do sexo\n",
    "if a != 'sim' and a != 'não':\n",
    "    #Saida: False and True and True = False\n",
    "    print('Resposta da pergunta 1 é inválida')\n",
    "if b != 'sim' and b != 'não':\n",
    "   \n",
    "    print('Resposta da pergunta 2 é inválida')\n",
    "if c != 'sim' and c != 'não':\n",
    "    \n",
    "    print('Resposta da pergunta 3 é inválida')\n",
    "if d != 'sim' and d != 'não':\n",
    "    \n",
    "    print('Resposta da pergunta 4 é inválida')\n",
    "if e != 'sim' and e != 'não':\n",
    "   \n",
    "    print('Resposta da pergunta 5 é inválida')\n"
   ]
  },
  {
   "cell_type": "markdown",
   "metadata": {},
   "source": [
    "8) Um produto vai sofrer aumento de acordo com a Tabela 1 abaixo. Faça um programa que peça para o usuário digitar o valor do produto de acordo \n",
    "com o preço antigo e escreva uma das mensagens da Tabela 2, de acordo com o preço reajustado:\n",
    "\n",
    "Tabela 1\n",
    "\n",
    "| Preço Antigo         | % de aumento |\n",
    "|----------------------|--------------|\n",
    "| Até 50 reais         | 5%           |\n",
    "| Entre 50 e 100 reais | 10%          |\n",
    "| De 100 a 150 reais   | 13%          |\n",
    "| Acima de 150 reais   | 15%          |\n",
    "Tabela 2\n",
    "\n",
    "| Preço Novo            | Mensagem   |\n",
    "|-----------------------|------------|\n",
    "| Até 80 reais          | Barato     |\n",
    "| Entre 80 e 115 reais  | Razoável   |\n",
    "| Entre 115 e 150 reais | Normal     |\n",
    "| Entre 150 e 170 reais | Caro       |\n",
    "| Acima de 170 reais    | Muito Caro |"
   ]
  },
  {
   "cell_type": "code",
   "execution_count": 35,
   "metadata": {},
   "outputs": [
    {
     "name": "stdout",
     "output_type": "stream",
     "text": [
      "O novo preço é: 230.00 reais - Muito Caro\n"
     ]
    }
   ],
   "source": [
    "\n",
    "preco_antigo = float(input(\"Digite o valor do produto (preço antigo): \"))\n",
    "\n",
    "if preco_antigo <= 50:\n",
    "    aumento = 0.05\n",
    "elif preco_antigo <= 100:\n",
    "    aumento = 0.10\n",
    "elif preco_antigo <= 150:\n",
    "    aumento = 0.13\n",
    "else:\n",
    "    aumento = 0.15\n",
    "\n",
    "# Calcula o novo preço\n",
    "preco_novo = preco_antigo * (1 + aumento)\n",
    "\n",
    "\n",
    "if preco_novo <= 80:\n",
    "    mensagem = \"Barato\"\n",
    "elif preco_novo <= 115:\n",
    "    mensagem = \"Razoável\"\n",
    "elif preco_novo <= 150:\n",
    "    mensagem = \"Normal\"\n",
    "elif preco_novo <= 170:\n",
    "    mensagem = \"Caro\"\n",
    "else:\n",
    "    mensagem = \"Muito Caro\"\n",
    "\n",
    "# Exibe o preço novo e a mensagem correspondente\n",
    "print(f\"O novo preço é: {preco_novo:.2f} reais - {mensagem}\")\n"
   ]
  },
  {
   "cell_type": "markdown",
   "metadata": {},
   "source": [
    "9) Desafio 1 - Faça um programa que leia 3 números e informe o maior deles."
   ]
  },
  {
   "cell_type": "code",
   "execution_count": 37,
   "metadata": {},
   "outputs": [
    {
     "name": "stdout",
     "output_type": "stream",
     "text": [
      "O maior número é: 90.0\n"
     ]
    }
   ],
   "source": [
    "\n",
    "numero1 = float(input(\"Digite o primeiro número: \"))\n",
    "numero2 = float(input(\"Digite o segundo número: \"))\n",
    "numero3 = float(input(\"Digite o terceiro número: \"))\n",
    "\n",
    "# Inicialmente, assume que o primeiro número é o maior\n",
    "maior = numero1\n",
    "\n",
    "# Depois faz as comparações\n",
    "if numero2 > maior:\n",
    "    maior = numero2\n",
    "\n",
    "if numero3 > maior:\n",
    "    maior = numero3\n",
    "\n",
    "print(f\"O maior número é: {maior}\")\n",
    "\n"
   ]
  }
 ],
 "metadata": {
  "kernelspec": {
   "display_name": "Python 3",
   "language": "python",
   "name": "python3"
  },
  "language_info": {
   "codemirror_mode": {
    "name": "ipython",
    "version": 3
   },
   "file_extension": ".py",
   "mimetype": "text/x-python",
   "name": "python",
   "nbconvert_exporter": "python",
   "pygments_lexer": "ipython3",
   "version": "3.12.3"
  }
 },
 "nbformat": 4,
 "nbformat_minor": 2
}
